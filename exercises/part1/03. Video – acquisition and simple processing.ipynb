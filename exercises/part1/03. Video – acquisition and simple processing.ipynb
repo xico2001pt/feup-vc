{
 "cells": [
  {
   "attachments": {},
   "cell_type": "markdown",
   "metadata": {},
   "source": [
    "# 3. Video – acquisition and simple processing"
   ]
  },
  {
   "cell_type": "code",
   "execution_count": 1,
   "metadata": {},
   "outputs": [],
   "source": [
    "import cv2\n",
    "import numpy as np\n",
    "import os\n",
    "\n",
    "DATA_DIR = './data'\n",
    "FILENAME = \"apple.jpg\"\n",
    "WINDOW_NAME = \"Camera\"\n",
    "SAVED_FRAME_FILENAME = \"video_frame.jpg\""
   ]
  },
  {
   "attachments": {},
   "cell_type": "markdown",
   "metadata": {},
   "source": [
    "**a)** Display a video acquired from the webcam (in color) in one window and acquire and save a frame when the user\n",
    "presses the keyboard. Show the acquired frame in another window."
   ]
  },
  {
   "cell_type": "code",
   "execution_count": 2,
   "metadata": {},
   "outputs": [],
   "source": [
    "capture = cv2.VideoCapture(0)\n",
    "SAVE_PATH = os.path.join(DATA_DIR, SAVED_FRAME_FILENAME)\n",
    "\n",
    "while(True):\n",
    "    ret, frame = capture.read()\n",
    "    \n",
    "    cv2.imshow(WINDOW_NAME, frame)\n",
    "\n",
    "    key = cv2.waitKey(1)\n",
    "\n",
    "    if key & 0xFF == ord('q'):\n",
    "        break\n",
    "\n",
    "    elif key & 0xFF == ord('s'):\n",
    "        cv2.imwrite(SAVE_PATH, frame)\n",
    "\n",
    "\n",
    "capture.release()\n",
    "cv2.destroyWindow(WINDOW_NAME)"
   ]
  },
  {
   "attachments": {},
   "cell_type": "markdown",
   "metadata": {},
   "source": [
    "**b)** Display the video acquired from the webcam (in color) in one window and the result of the conversion of each\n",
    "frame to grayscale in another window."
   ]
  },
  {
   "cell_type": "code",
   "execution_count": 3,
   "metadata": {},
   "outputs": [],
   "source": [
    "GRAYSCALE_WINDOW_NAME = f'Grayscaled {WINDOW_NAME}'\n",
    "\n",
    "capture = cv2.VideoCapture(0)\n",
    "\n",
    "while(True):\n",
    "    ret, frame = capture.read()\n",
    "    \n",
    "    grayscale_img = cv2.cvtColor(frame, cv2.COLOR_BGR2GRAY)\n",
    "    \n",
    "    cv2.imshow(WINDOW_NAME, frame)\n",
    "    cv2.imshow(GRAYSCALE_WINDOW_NAME, grayscale_img)\n",
    "\n",
    "    key = cv2.waitKey(1)\n",
    "\n",
    "    if key != -1:\n",
    "        break\n",
    "\n",
    "\n",
    "capture.release()\n",
    "cv2.destroyAllWindows()"
   ]
  },
  {
   "attachments": {},
   "cell_type": "markdown",
   "metadata": {},
   "source": [
    "**c)** Modify the program developed in b) so that the resulting frames are in binary format (intensity of each pixel is 0 or\n",
    "255); use a threshold value of 128."
   ]
  },
  {
   "cell_type": "code",
   "execution_count": 4,
   "metadata": {},
   "outputs": [],
   "source": [
    "GRAYSCALE_WINDOW_NAME = f'Binary Grayscaled {WINDOW_NAME}'\n",
    "BINARY_THRESHOLD = 128\n",
    "\n",
    "capture = cv2.VideoCapture(0)\n",
    "\n",
    "while(True):\n",
    "    ret, frame = capture.read()\n",
    "    \n",
    "    grayscale_img = cv2.cvtColor(frame, cv2.COLOR_BGR2GRAY)\n",
    "\n",
    "    grayscale_img = grayscale_img // BINARY_THRESHOLD * 255\n",
    "    \n",
    "    cv2.imshow(WINDOW_NAME, frame)\n",
    "    cv2.imshow(GRAYSCALE_WINDOW_NAME, grayscale_img)\n",
    "\n",
    "    key = cv2.waitKey(1)\n",
    "    \n",
    "    if key != -1:\n",
    "        break\n",
    "\n",
    "\n",
    "capture.release()\n",
    "cv2.destroyAllWindows()"
   ]
  },
  {
   "attachments": {},
   "cell_type": "markdown",
   "metadata": {},
   "source": [
    "**d)** Implement a simple tracking algorithm for colored objects, using the following steps: 1) take each frame of the\n",
    "video; 2) convert from BGR to HSV color-space; 3) threshold the HSV image for a range of color values (creating a\n",
    "binary image); 4) extract the objects of the selected range (use a bitwise AND operation, using as operands the\n",
    "original and the binary image)."
   ]
  },
  {
   "cell_type": "code",
   "execution_count": 10,
   "metadata": {},
   "outputs": [],
   "source": [
    "TARGET_HUE = 90\n",
    "\n",
    "def on_trackbar(value):\n",
    "    global TARGET_HUE\n",
    "    TARGET_HUE = value\n",
    "\n",
    "cv2.namedWindow(WINDOW_NAME)\n",
    "cv2.createTrackbar(\"Hue\", WINDOW_NAME, 0, 180, on_trackbar)\n",
    "\n",
    "HUE_THRESHOLD = 10\n",
    "SATURATION_THRESHOLD = 45\n",
    "VALUE_THRESHOLD = 45\n",
    "\n",
    "\n",
    "capture = cv2.VideoCapture(0)\n",
    "\n",
    "while(True):\n",
    "    ret, frame = capture.read()\n",
    "    \n",
    "    imgHSV = cv2.cvtColor(frame, cv2.COLOR_BGR2HSV)\n",
    "\n",
    "    lower_range = np.array([TARGET_HUE - HUE_THRESHOLD, SATURATION_THRESHOLD, VALUE_THRESHOLD])\n",
    "    upper_range = np.array([TARGET_HUE + HUE_THRESHOLD, 255, 255])\n",
    "\n",
    "    imgMask = cv2.inRange(imgHSV, lower_range, upper_range)\n",
    "\n",
    "    frame = cv2.bitwise_and(frame, frame, mask=imgMask)\n",
    "    \n",
    "    cv2.imshow(WINDOW_NAME, frame)\n",
    "\n",
    "    key = cv2.waitKey(1)\n",
    "    \n",
    "    if key != -1:\n",
    "        break\n",
    "\n",
    "\n",
    "capture.release()\n",
    "cv2.destroyWindow(WINDOW_NAME)"
   ]
  }
 ],
 "metadata": {
  "kernelspec": {
   "display_name": "Python 3",
   "language": "python",
   "name": "python3"
  },
  "language_info": {
   "codemirror_mode": {
    "name": "ipython",
    "version": 3
   },
   "file_extension": ".py",
   "mimetype": "text/x-python",
   "name": "python",
   "nbconvert_exporter": "python",
   "pygments_lexer": "ipython3",
   "version": "3.10.6"
  },
  "orig_nbformat": 4,
  "vscode": {
   "interpreter": {
    "hash": "e7370f93d1d0cde622a1f8e1c04877d8463912d04d973331ad4851f04de6915a"
   }
  }
 },
 "nbformat": 4,
 "nbformat_minor": 2
}
