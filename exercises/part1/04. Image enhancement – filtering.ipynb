{
 "cells": [
  {
   "attachments": {},
   "cell_type": "markdown",
   "metadata": {},
   "source": [
    "# 4. Image enhancement – filtering"
   ]
  },
  {
   "cell_type": "code",
   "execution_count": 5,
   "metadata": {},
   "outputs": [],
   "source": [
    "import cv2\n",
    "import numpy as np\n",
    "import os\n",
    "\n",
    "DATA_DIR = './data'\n",
    "FILENAME = \"fruits_01_noisy.jpg\"\n",
    "\n",
    "KERNEL_SIZE = 5"
   ]
  },
  {
   "attachments": {},
   "cell_type": "markdown",
   "metadata": {},
   "source": [
    "Take a noisy image (see problem 2.d) and filter it (try different filter sizes), using:\n",
    "(for a-d see https://docs.opencv.org/4.x/dc/dd3/tutorial_gausian_median_blur_bilateral_filter.html)"
   ]
  },
  {
   "attachments": {},
   "cell_type": "markdown",
   "metadata": {},
   "source": [
    "**a)** a mean filter;"
   ]
  },
  {
   "cell_type": "code",
   "execution_count": 6,
   "metadata": {},
   "outputs": [],
   "source": [
    "img = cv2.imread(os.path.join(DATA_DIR, FILENAME))\n",
    "\n",
    "if img is None:\n",
    "    print(\"Image could not be loaded.\")\n",
    "    exit(1)\n",
    "\n",
    "kernel = np.ones((KERNEL_SIZE, KERNEL_SIZE), np.float32) / (KERNEL_SIZE * KERNEL_SIZE)\n",
    "\n",
    "filtered_img = cv2.filter2D(img, -1, kernel)\n",
    "\n",
    "cv2.imshow(\"Noisy image\", img)\n",
    "cv2.imshow(\"Filtered image\", filtered_img)\n",
    "\n",
    "cv2.waitKey(0)\n",
    "\n",
    "cv2.destroyAllWindows()"
   ]
  },
  {
   "attachments": {},
   "cell_type": "markdown",
   "metadata": {},
   "source": [
    "**b)** a Gaussian filter;"
   ]
  },
  {
   "cell_type": "code",
   "execution_count": 7,
   "metadata": {},
   "outputs": [],
   "source": [
    "img = cv2.imread(os.path.join(DATA_DIR, FILENAME))\n",
    "\n",
    "if img is None:\n",
    "    print(\"Image could not be loaded.\")\n",
    "    exit(1)\n",
    "\n",
    "filtered_img = cv2.GaussianBlur(img, (KERNEL_SIZE, KERNEL_SIZE), 0)\n",
    "\n",
    "cv2.imshow(\"Noisy image\", img)\n",
    "cv2.imshow(\"Filtered image\", filtered_img)\n",
    "\n",
    "cv2.waitKey(0)\n",
    "\n",
    "cv2.destroyAllWindows()"
   ]
  },
  {
   "attachments": {},
   "cell_type": "markdown",
   "metadata": {},
   "source": [
    "**c)** a median filter;"
   ]
  },
  {
   "cell_type": "code",
   "execution_count": 9,
   "metadata": {},
   "outputs": [],
   "source": [
    "img = cv2.imread(os.path.join(DATA_DIR, FILENAME))\n",
    "\n",
    "if img is None:\n",
    "    print(\"Image could not be loaded.\")\n",
    "    exit(1)\n",
    "\n",
    "filtered_img = cv2.medianBlur(img, KERNEL_SIZE)\n",
    "\n",
    "cv2.imshow(\"Noisy image\", img)\n",
    "cv2.imshow(\"Filtered image\", filtered_img)\n",
    "\n",
    "cv2.waitKey(0)\n",
    "\n",
    "cv2.destroyAllWindows()"
   ]
  },
  {
   "attachments": {},
   "cell_type": "markdown",
   "metadata": {},
   "source": [
    "**d)** a bilateral filter."
   ]
  },
  {
   "cell_type": "code",
   "execution_count": 11,
   "metadata": {},
   "outputs": [],
   "source": [
    "img = cv2.imread(os.path.join(DATA_DIR, FILENAME))\n",
    "\n",
    "if img is None:\n",
    "    print(\"Image could not be loaded.\")\n",
    "    exit(1)\n",
    "\n",
    "filtered_img = cv2.bilateralFilter(img, 15, 75, 75)\n",
    "\n",
    "cv2.imshow(\"Noisy image\", img)\n",
    "cv2.imshow(\"Filtered image\", filtered_img)\n",
    "\n",
    "cv2.waitKey(0)\n",
    "\n",
    "cv2.destroyAllWindows()"
   ]
  },
  {
   "attachments": {},
   "cell_type": "markdown",
   "metadata": {},
   "source": [
    "**e)** a filter defined by you, adapting the following code (note: remove the (1/16) factor in the assignment of\n",
    "kernel_3x3 and explain what happens):"
   ]
  },
  {
   "cell_type": "code",
   "execution_count": 12,
   "metadata": {},
   "outputs": [
    {
     "name": "stdout",
     "output_type": "stream",
     "text": [
      "[[0.0625 0.125  0.0625]\n",
      " [0.125  0.25   0.125 ]\n",
      " [0.0625 0.125  0.0625]]\n"
     ]
    }
   ],
   "source": [
    "from matplotlib import pyplot as plt\n",
    "from scipy import ndimage\n",
    "\n",
    "# Read image\n",
    "img = cv2.imread(os.path.join(DATA_DIR, FILENAME))\n",
    "\n",
    "# Convert to grayscale if needed\n",
    "img = cv2.cvtColor(img, cv2.COLOR_BGR2GRAY)\n",
    "\n",
    "# Smooth using OpenCV GaussianBlur()\n",
    "gaussianBlurred = cv2.GaussianBlur(img, (3, 3), 0)\n",
    "\n",
    "# Smooth us ing c onvolution operation c oded below\n",
    "kernel_3x3 = (1/16) * np.array([[1, 2, 1],[2, 4, 2],[1, 2, 1]])\n",
    "\n",
    "print(kernel_3x3)\n",
    "\n",
    "myConvolutionResult = ndimage.convolve(img, kernel_3x3)\n",
    "\n",
    "# Show results\n",
    "cv2.imshow(\"Original\", img)\n",
    "cv2.imshow(\"OpenCV Gaussian Blur\", gaussianBlurred)\n",
    "cv2.imshow(\"My 3x3 convolution w/Gaussian mask\", myConvolutionResult)\n",
    "cv2.waitKey(0)\n",
    "cv2.destroyAllWindows()"
   ]
  }
 ],
 "metadata": {
  "kernelspec": {
   "display_name": "Python 3",
   "language": "python",
   "name": "python3"
  },
  "language_info": {
   "codemirror_mode": {
    "name": "ipython",
    "version": 3
   },
   "file_extension": ".py",
   "mimetype": "text/x-python",
   "name": "python",
   "nbconvert_exporter": "python",
   "pygments_lexer": "ipython3",
   "version": "3.10.6"
  },
  "orig_nbformat": 4,
  "vscode": {
   "interpreter": {
    "hash": "e7370f93d1d0cde622a1f8e1c04877d8463912d04d973331ad4851f04de6915a"
   }
  }
 },
 "nbformat": 4,
 "nbformat_minor": 2
}
