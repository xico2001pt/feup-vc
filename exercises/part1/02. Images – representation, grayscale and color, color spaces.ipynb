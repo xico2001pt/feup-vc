{
 "cells": [
  {
   "attachments": {},
   "cell_type": "markdown",
   "metadata": {},
   "source": [
    "# 2. Images – representation, grayscale and color, color spaces"
   ]
  },
  {
   "cell_type": "code",
   "execution_count": 1,
   "metadata": {},
   "outputs": [],
   "source": [
    "import cv2\n",
    "import numpy as np\n",
    "import random\n",
    "import os\n",
    "\n",
    "DATA_DIR = './data'\n",
    "FILENAME = \"bank_note.JPG\"\n",
    "WINDOW_NAME = 'grayscale_img'\n",
    "\n",
    "DIMENSIONS = (100, 200)\n",
    "LINE_THICKNESS = 5"
   ]
  },
  {
   "attachments": {},
   "cell_type": "markdown",
   "metadata": {},
   "source": [
    "**a)** Create a grayscale image, having 100(lines)x200(columns) pixels with constant intensity, 100; draw the two\n",
    "diagonals of the image with intensity 255. Display the image."
   ]
  },
  {
   "cell_type": "code",
   "execution_count": 4,
   "metadata": {},
   "outputs": [],
   "source": [
    "img = np.ones(DIMENSIONS, np.uint8)\n",
    "\n",
    "img = img * 100\n",
    "\n",
    "cv2.line(img, (0, 0), (DIMENSIONS[1], DIMENSIONS[0]), 255, LINE_THICKNESS)\n",
    "cv2.line(img, (DIMENSIONS[1], 0), (0, DIMENSIONS[0]), 255, LINE_THICKNESS)\n",
    "\n",
    "cv2.imshow(WINDOW_NAME, img)\n",
    "\n",
    "cv2.waitKey(0)\n",
    "\n",
    "cv2.destroyWindow(WINDOW_NAME)"
   ]
  },
  {
   "attachments": {},
   "cell_type": "markdown",
   "metadata": {},
   "source": [
    "**b)** Create a color image, having 100(lines)x200(columns) pixels with yellow color; draw the two diagonals of the\n",
    "image, one in red color, the other in blue color. Display the image."
   ]
  },
  {
   "cell_type": "code",
   "execution_count": 4,
   "metadata": {},
   "outputs": [],
   "source": [
    "img = np.ones((DIMENSIONS[0], DIMENSIONS[1], 3), np.uint8)\n",
    "\n",
    "yellow = np.array([0, 255, 255], np.uint8)\n",
    "red = [0, 0, 255]\n",
    "blue = [255, 0, 0]\n",
    "\n",
    "img = img * yellow\n",
    "\n",
    "cv2.line(img, (0, 0), (DIMENSIONS[1], DIMENSIONS[0]), red, LINE_THICKNESS)\n",
    "cv2.line(img, (DIMENSIONS[1], 0), (0, DIMENSIONS[0]), blue, LINE_THICKNESS)\n",
    "\n",
    "cv2.imshow(WINDOW_NAME, img)\n",
    "\n",
    "cv2.waitKey(0)\n",
    "\n",
    "cv2.destroyWindow(WINDOW_NAME)"
   ]
  },
  {
   "attachments": {},
   "cell_type": "markdown",
   "metadata": {},
   "source": [
    "**c)** Read a color image, display it in one window, convert it to grayscale, display the grayscale image in another window\n",
    "and save the grayscale image to a different file."
   ]
  },
  {
   "cell_type": "code",
   "execution_count": 7,
   "metadata": {},
   "outputs": [],
   "source": [
    "img = cv2.imread(os.path.join(DATA_DIR, FILENAME))\n",
    "\n",
    "if img is None:\n",
    "    print(\"Image could not be loaded.\")\n",
    "    exit(1)\n",
    "\n",
    "grayscaled_img = cv2.cvtColor(img, cv2.COLOR_BGR2GRAY)\n",
    "\n",
    "cv2.imshow(FILENAME, img)\n",
    "\n",
    "cv2.imshow(WINDOW_NAME, grayscaled_img)\n",
    "\n",
    "cv2.waitKey(0)\n",
    "\n",
    "cv2.destroyAllWindows()"
   ]
  },
  {
   "attachments": {},
   "cell_type": "markdown",
   "metadata": {},
   "source": [
    "**d)** Read an image (color or grayscale) and add \"salt and pepper\" noise to it. The number of noisy points must be 10%\n",
    "of the total number of image points. Suggestion: start by determining the number of image channels."
   ]
  },
  {
   "cell_type": "code",
   "execution_count": 2,
   "metadata": {},
   "outputs": [],
   "source": [
    "NOISE_PROBABILITY = 0.1\n",
    "\n",
    "img = cv2.imread(os.path.join(DATA_DIR, FILENAME))\n",
    "\n",
    "if img is None:\n",
    "    print(\"Image could not be loaded.\")\n",
    "    exit(1)\n",
    "\n",
    "for i in range(img.shape[0]):\n",
    "    for j in range(img.shape[1]):\n",
    "        rnd = random.random()\n",
    "        if rnd < NOISE_PROBABILITY:\n",
    "            is_salt = random.getrandbits(1)\n",
    "            img[i, j] = np.array([255, 255, 255], np.uint8) * is_salt\n",
    "\n",
    "cv2.imshow(WINDOW_NAME, img)\n",
    "\n",
    "# Uncomment for exercise 4\n",
    "#cv2.imwrite(os.path.join(DATA_DIR, f'{\".\".join(FILENAME.split(\".\")[:-1])}_noisy.{FILENAME.split(\".\")[-1]}'), img)\n",
    "\n",
    "cv2.waitKey(0)\n",
    "\n",
    "cv2.destroyWindow(WINDOW_NAME)"
   ]
  },
  {
   "attachments": {},
   "cell_type": "markdown",
   "metadata": {},
   "source": [
    "**e)** Read a color image, in RGB format, split the 3 channels and show each channel in a separate window. Add a\n",
    "constant value to one of the channels, merge the channels into a new color image and show the resulting image."
   ]
  },
  {
   "cell_type": "code",
   "execution_count": 3,
   "metadata": {},
   "outputs": [],
   "source": [
    "img = cv2.imread(os.path.join(DATA_DIR, FILENAME))\n",
    "\n",
    "if img is None:\n",
    "    print(\"Image could not be loaded.\")\n",
    "    exit(1)\n",
    "\n",
    "blue_img, green_img, red_img = cv2.split(img)\n",
    "\n",
    "cv2.imshow(f'Red channel {FILENAME}', red_img)\n",
    "cv2.imshow(f'Green channel {FILENAME}', green_img)\n",
    "cv2.imshow(f'Blue channel {FILENAME}', blue_img)\n",
    "\n",
    "cv2.waitKey(0)\n",
    "\n",
    "cv2.destroyAllWindows()"
   ]
  },
  {
   "attachments": {},
   "cell_type": "markdown",
   "metadata": {},
   "source": [
    "**f)** Read a color image, in RGB format, convert it to HSV, split the 3 HSV channels and show each channel in a separate\n",
    "window. Add a constant value to saturation channel, merge the channels into a new color image and show the\n",
    "resulting image."
   ]
  },
  {
   "cell_type": "code",
   "execution_count": 4,
   "metadata": {},
   "outputs": [],
   "source": [
    "img = cv2.imread(os.path.join(DATA_DIR, FILENAME))\n",
    "\n",
    "if img is None:\n",
    "    print(\"Image could not be loaded.\")\n",
    "    exit(1)\n",
    "\n",
    "imgHSV = cv2.cvtColor(img, cv2.COLOR_BGR2HSV)\n",
    "\n",
    "hue_img, saturation_img, value_img = cv2.split(imgHSV)\n",
    "\n",
    "cv2.imshow(f'Hue channel {FILENAME}', hue_img)\n",
    "cv2.imshow(f'Saturation channel {FILENAME}', saturation_img)\n",
    "cv2.imshow(f'Value channel {FILENAME}', value_img)\n",
    "\n",
    "cv2.waitKey(0)\n",
    "\n",
    "cv2.destroyAllWindows()"
   ]
  }
 ],
 "metadata": {
  "kernelspec": {
   "display_name": "Python 3",
   "language": "python",
   "name": "python3"
  },
  "language_info": {
   "codemirror_mode": {
    "name": "ipython",
    "version": 3
   },
   "file_extension": ".py",
   "mimetype": "text/x-python",
   "name": "python",
   "nbconvert_exporter": "python",
   "pygments_lexer": "ipython3",
   "version": "3.10.6"
  },
  "orig_nbformat": 4,
  "vscode": {
   "interpreter": {
    "hash": "e7370f93d1d0cde622a1f8e1c04877d8463912d04d973331ad4851f04de6915a"
   }
  }
 },
 "nbformat": 4,
 "nbformat_minor": 2
}
