{
 "cells": [
  {
   "attachments": {},
   "cell_type": "markdown",
   "metadata": {},
   "source": [
    "# 1. Images – read, write and display; ROIs"
   ]
  },
  {
   "cell_type": "code",
   "execution_count": 2,
   "metadata": {},
   "outputs": [],
   "source": [
    "import cv2\n",
    "import os\n",
    "\n",
    "DATA_DIR = './data'\n",
    "\n",
    "FILENAME = \"apple.jpg\"\n",
    "FILENAME_NO_EXTENSION = FILENAME.split(\".\")[0]\n",
    "FILENAME_EXTENSION = FILENAME.split(\".\")[-1]"
   ]
  },
  {
   "attachments": {},
   "cell_type": "markdown",
   "metadata": {},
   "source": [
    "**a)** Read the name of a file containing an image in 'jpg' format and show it in a window, whose name is the name of the\n",
    "file. Test whether the image was successfully read. Display the height and width of the image, on the console."
   ]
  },
  {
   "cell_type": "code",
   "execution_count": 3,
   "metadata": {},
   "outputs": [
    {
     "name": "stdout",
     "output_type": "stream",
     "text": [
      "Height: 224\n",
      "Width: 224\n",
      "Channels: 3\n"
     ]
    }
   ],
   "source": [
    "img = cv2.imread(os.path.join(DATA_DIR, FILENAME))\n",
    "\n",
    "if img is None:\n",
    "    print(\"Image could not be loaded.\")\n",
    "    exit(1)\n",
    "\n",
    "height, width, channels = img.shape\n",
    "\n",
    "print(f'Height: {height}')\n",
    "print(f'Width: {width}')\n",
    "print(f'Channels: {channels}')"
   ]
  },
  {
   "attachments": {},
   "cell_type": "markdown",
   "metadata": {},
   "source": [
    "**b)** Read a color image from a file in 'jpg' format and save it in 'bmp' format."
   ]
  },
  {
   "cell_type": "code",
   "execution_count": 4,
   "metadata": {},
   "outputs": [
    {
     "name": "stdout",
     "output_type": "stream",
     "text": [
      "Image saved on ./data/apple.bmp\n"
     ]
    }
   ],
   "source": [
    "bmp_path = os.path.join(DATA_DIR, f'{FILENAME_NO_EXTENSION}.bmp')\n",
    "cv2.imwrite(bmp_path, img)\n",
    "\n",
    "print(f'Image saved on {bmp_path}')"
   ]
  },
  {
   "attachments": {},
   "cell_type": "markdown",
   "metadata": {},
   "source": [
    "**c)** Read a color image from a file, show the mouse cursor over the image, and the coordinates and RGB components of\n",
    "the pixel under the cursor. When the user clicks on the mouse, let him modify the RGB components of the selected\n",
    "pixel."
   ]
  },
  {
   "cell_type": "code",
   "execution_count": 5,
   "metadata": {},
   "outputs": [],
   "source": [
    "def mouse_callback(event, x, y, flags, params):\n",
    "    if event == cv2.EVENT_LBUTTONDOWN:\n",
    "        img[y, x] = [0, 0, 0]\n",
    "        cv2.imshow(FILENAME, img)"
   ]
  },
  {
   "attachments": {},
   "cell_type": "markdown",
   "metadata": {},
   "source": [
    "**d)** Read an image from a file, allow the user to select a region of interest (ROI) in the image, by clicking on two points\n",
    "that identify two opposite corners of the selected ROI, and save the ROI into another file."
   ]
  },
  {
   "cell_type": "code",
   "execution_count": 6,
   "metadata": {},
   "outputs": [
    {
     "name": "stdout",
     "output_type": "stream",
     "text": [
      "Select a ROI and then press SPACE or ENTER button!\n",
      "Cancel the selection process by pressing c button!\n",
      "Cropped image saved on ./data/apple_cropped.jpg\n"
     ]
    }
   ],
   "source": [
    "roi = cv2.selectROI(FILENAME, img)\n",
    "\n",
    "cropped_img_path = os.path.join(DATA_DIR, f'{FILENAME_NO_EXTENSION}_cropped.{FILENAME_EXTENSION}')\n",
    "\n",
    "cropped_img = img[roi[1]:roi[1]+roi[3], roi[0]:roi[0]+roi[2]]\n",
    "cv2.imwrite(cropped_img_path, cropped_img)\n",
    "\n",
    "print (f'Cropped image saved on {cropped_img_path}')"
   ]
  },
  {
   "cell_type": "code",
   "execution_count": 7,
   "metadata": {},
   "outputs": [],
   "source": [
    "# Display the image\n",
    "\n",
    "cv2.imshow(FILENAME, img)\n",
    "\n",
    "cv2.setMouseCallback(FILENAME, mouse_callback)\n",
    "\n",
    "cv2.waitKey(0)\n",
    "\n",
    "cv2.destroyWindow(FILENAME)"
   ]
  }
 ],
 "metadata": {
  "kernelspec": {
   "display_name": "Python 3",
   "language": "python",
   "name": "python3"
  },
  "language_info": {
   "codemirror_mode": {
    "name": "ipython",
    "version": 3
   },
   "file_extension": ".py",
   "mimetype": "text/x-python",
   "name": "python",
   "nbconvert_exporter": "python",
   "pygments_lexer": "ipython3",
   "version": "3.10.6"
  },
  "orig_nbformat": 4,
  "vscode": {
   "interpreter": {
    "hash": "e7370f93d1d0cde622a1f8e1c04877d8463912d04d973331ad4851f04de6915a"
   }
  }
 },
 "nbformat": 4,
 "nbformat_minor": 2
}
