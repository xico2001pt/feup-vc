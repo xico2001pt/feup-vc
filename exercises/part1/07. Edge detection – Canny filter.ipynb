{
 "cells": [
  {
   "attachments": {},
   "cell_type": "markdown",
   "metadata": {},
   "source": [
    "# 7. Edge detection – Canny filter"
   ]
  },
  {
   "cell_type": "code",
   "execution_count": 1,
   "metadata": {},
   "outputs": [],
   "source": [
    "import cv2\n",
    "import numpy as np\n",
    "import os\n",
    "\n",
    "DATA_DIR = './data'\n",
    "FILENAME = \"chessboard_03.jpg\"\n",
    "WINDOW_NAME = \"Edge Detection\"\n",
    "DDEPTH = cv2.CV_16S"
   ]
  },
  {
   "attachments": {},
   "cell_type": "markdown",
   "metadata": {},
   "source": [
    "**a)** Detect the edges of an image using the Canny() OpenCV function. Suggestion: use trackbars to select different\n",
    "low and high threshold for the hysteresis procedure and different aperture size for the Sobel() function."
   ]
  },
  {
   "cell_type": "code",
   "execution_count": 3,
   "metadata": {},
   "outputs": [],
   "source": [
    "t1, t2 = 100, 200\n",
    "\n",
    "def on_t1_slider(value):\n",
    "    global t1, t2\n",
    "    t1 = value\n",
    "    edges = cv2.Canny(img, t1, t2)\n",
    "    cv2.imshow(WINDOW_NAME, edges)\n",
    "\n",
    "def on_t2_slider(value):\n",
    "    global t1, t2\n",
    "    t2 = value\n",
    "    edges = cv2.Canny(img, t1, t2)\n",
    "    cv2.imshow(WINDOW_NAME, edges)\n",
    "\n",
    "cv2.namedWindow(WINDOW_NAME)\n",
    "cv2.createTrackbar(\"Threshold 1\", WINDOW_NAME, 100, 1000, on_t1_slider)\n",
    "cv2.createTrackbar(\"Threshold 2\", WINDOW_NAME, 200, 1000, on_t2_slider)\n",
    "\n",
    "img = cv2.imread(os.path.join(DATA_DIR, FILENAME), cv2.IMREAD_GRAYSCALE)\n",
    "\n",
    "if img is None:\n",
    "    print(\"Image could not be loaded.\")\n",
    "    exit(1)\n",
    "\n",
    "edges = cv2.Canny(img, t1, t2)\n",
    "\n",
    "cv2.imshow(WINDOW_NAME, edges)\n",
    "cv2.waitKey(0)\n",
    "cv2.destroyAllWindows()"
   ]
  }
 ],
 "metadata": {
  "kernelspec": {
   "display_name": "Python 3",
   "language": "python",
   "name": "python3"
  },
  "language_info": {
   "codemirror_mode": {
    "name": "ipython",
    "version": 3
   },
   "file_extension": ".py",
   "mimetype": "text/x-python",
   "name": "python",
   "nbconvert_exporter": "python",
   "pygments_lexer": "ipython3",
   "version": "3.10.6"
  },
  "orig_nbformat": 4,
  "vscode": {
   "interpreter": {
    "hash": "e7370f93d1d0cde622a1f8e1c04877d8463912d04d973331ad4851f04de6915a"
   }
  }
 },
 "nbformat": 4,
 "nbformat_minor": 2
}
