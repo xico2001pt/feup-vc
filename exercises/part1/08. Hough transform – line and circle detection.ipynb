{
 "cells": [
  {
   "attachments": {},
   "cell_type": "markdown",
   "metadata": {},
   "source": [
    "# 8. Hough transform – line and circle detection"
   ]
  },
  {
   "cell_type": "code",
   "execution_count": 1,
   "metadata": {},
   "outputs": [],
   "source": [
    "import cv2\n",
    "import numpy as np\n",
    "import os\n",
    "\n",
    "DATA_DIR = './data'\n",
    "FILENAMES = [\"streetLines_01.jpg\", \"chessboard_02.jpg\"]"
   ]
  },
  {
   "attachments": {},
   "cell_type": "markdown",
   "metadata": {},
   "source": [
    "**b)** Use HoughLines() to detect lines in images like those in figure 1.a and 1.b; try different parameter values; draw\n",
    "the detected lines on the image."
   ]
  },
  {
   "cell_type": "code",
   "execution_count": 7,
   "metadata": {},
   "outputs": [],
   "source": [
    "for filename in FILENAMES:\n",
    "    img = cv2.imread(os.path.join(DATA_DIR, filename))\n",
    "\n",
    "    if img is None:\n",
    "        print(\"Image could not be loaded.\")\n",
    "        continue\n",
    "\n",
    "    dst = cv2.cvtColor(img, cv2.COLOR_BGR2GRAY)\n",
    "    dst = cv2.Canny(dst, 50, 200, None, 3)\n",
    "\n",
    "    lines = cv2.HoughLines(dst, 1, np.pi / 180, 150, None, 0, 0)\n",
    "\n",
    "    if lines is not None:\n",
    "        for i in range(len(lines)):\n",
    "            rho = lines[i][0][0]\n",
    "            theta = lines[i][0][1]\n",
    "            a = np.cos(theta)\n",
    "            b = np.sin(theta)\n",
    "            x0 = a * rho\n",
    "            y0 = b * rho\n",
    "            pt1 = (int(x0 + 1000 * (-b)), int(y0 + 1000 * (a)))\n",
    "            pt2 = (int(x0 - 1000 * (-b)), int(y0 - 1000 * (a)))\n",
    "\n",
    "            cv2.line(img, pt1, pt2, (0, 0, 255), 3, cv2.LINE_AA)\n",
    "    \n",
    "    cv2.imshow(filename, img)\n",
    "\n",
    "cv2.waitKey(0)\n",
    "cv2.destroyAllWindows()"
   ]
  },
  {
   "attachments": {},
   "cell_type": "markdown",
   "metadata": {},
   "source": [
    "**c)** Use HoughLinesP() to detect line segments in the same images that you used in the previous problem ; try\n",
    "different parameter values; draw the detected line segments on the image."
   ]
  },
  {
   "cell_type": "code",
   "execution_count": 9,
   "metadata": {},
   "outputs": [],
   "source": [
    "for filename in FILENAMES:\n",
    "    img = cv2.imread(os.path.join(DATA_DIR, filename))\n",
    "\n",
    "    if img is None:\n",
    "        print(\"Image could not be loaded.\")\n",
    "        continue\n",
    "\n",
    "    dst = cv2.cvtColor(img, cv2.COLOR_BGR2GRAY)\n",
    "    dst = cv2.Canny(dst, 50, 200, None, 3)\n",
    "\n",
    "    lines = cv2.HoughLinesP(dst, 1, np.pi / 180, 65, None, 50, 10)\n",
    "\n",
    "    if lines is not None:\n",
    "        for i in range(len(lines)):\n",
    "            l = lines[i][0]\n",
    "\n",
    "            cv2.line(img, (l[0], l[1]), (l[2], l[3]), (0, 0, 255), 3, cv2.LINE_AA)\n",
    "    \n",
    "    cv2.imshow(filename, img)\n",
    "\n",
    "cv2.waitKey(0)\n",
    "cv2.destroyAllWindows()"
   ]
  },
  {
   "attachments": {},
   "cell_type": "markdown",
   "metadata": {},
   "source": [
    "**d)** Use HoughCircles() to detect the coins present in images like those in figure 1.c and 1.d (without or with\n",
    "superposition among the coins)."
   ]
  },
  {
   "cell_type": "code",
   "execution_count": 10,
   "metadata": {},
   "outputs": [],
   "source": [
    "FILENAMES = [\"coins_02.jpg\", \"coins_01.jpg\"]"
   ]
  },
  {
   "cell_type": "code",
   "execution_count": 21,
   "metadata": {},
   "outputs": [],
   "source": [
    "for filename in FILENAMES:\n",
    "\n",
    "    img = cv2.imread(os.path.join(DATA_DIR, filename))\n",
    "\n",
    "    if img is None:\n",
    "        print(\"Image could not be loaded.\")\n",
    "        continue\n",
    "    \n",
    "    dst = cv2.cvtColor(img, cv2.COLOR_BGR2GRAY)\n",
    "    #cv2.GaussianBlur(dst, (9, 9), 0, dst)\n",
    "\n",
    "    circles = cv2.HoughCircles(dst, cv2.HOUGH_GRADIENT, 1, 50, param1=50,param2=110, minRadius=50, maxRadius=150)\n",
    "\n",
    "    if circles is not None:\n",
    "        circles = np.uint16(np.around(circles))\n",
    "\n",
    "        for i in circles[0,:]:\n",
    "            cv2.circle(img,(i[0],i[1]),i[2],(0,255,0),2)\n",
    "            cv2.circle(img,(i[0],i[1]),2,(0,0,255),3)\n",
    "    \n",
    "    cv2.imshow(filename, img)\n",
    "\n",
    "cv2.waitKey(0)\n",
    "cv2.destroyAllWindows()"
   ]
  }
 ],
 "metadata": {
  "kernelspec": {
   "display_name": "Python 3",
   "language": "python",
   "name": "python3"
  },
  "language_info": {
   "codemirror_mode": {
    "name": "ipython",
    "version": 3
   },
   "file_extension": ".py",
   "mimetype": "text/x-python",
   "name": "python",
   "nbconvert_exporter": "python",
   "pygments_lexer": "ipython3",
   "version": "3.10.6"
  },
  "orig_nbformat": 4,
  "vscode": {
   "interpreter": {
    "hash": "e7370f93d1d0cde622a1f8e1c04877d8463912d04d973331ad4851f04de6915a"
   }
  }
 },
 "nbformat": 4,
 "nbformat_minor": 2
}
