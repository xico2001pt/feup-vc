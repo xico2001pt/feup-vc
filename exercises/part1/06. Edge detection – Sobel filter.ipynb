{
 "cells": [
  {
   "attachments": {},
   "cell_type": "markdown",
   "metadata": {},
   "source": [
    "# 6. Edge detection – Sobel filter"
   ]
  },
  {
   "cell_type": "code",
   "execution_count": 24,
   "metadata": {},
   "outputs": [],
   "source": [
    "import cv2\n",
    "import numpy as np\n",
    "import os\n",
    "\n",
    "DATA_DIR = './data'\n",
    "FILENAME = \"chessboard_03.jpg\"\n",
    "WINDOW_NAME = \"Edge Detection\"\n",
    "DDEPTH = cv2.CV_16S"
   ]
  },
  {
   "attachments": {},
   "cell_type": "markdown",
   "metadata": {},
   "source": [
    "Detect the edges of an image using the Sobel filter, by implementing the following steps:\n",
    "\n",
    "**a)** calculate the first derivatives of the image in x and y directions, using the Sobel() function;"
   ]
  },
  {
   "cell_type": "code",
   "execution_count": 40,
   "metadata": {},
   "outputs": [],
   "source": [
    "def calculate_grad_x_y(img, ksize):\n",
    "    img = cv2.cvtColor(img, cv2.COLOR_BGR2GRAY)\n",
    "\n",
    "    grad_x = cv2.Sobel(img, DDEPTH, 1, 0, ksize=ksize, scale=1, delta=0, borderType=cv2.BORDER_DEFAULT)\n",
    "    grad_y = cv2.Sobel(img, DDEPTH, 0, 1, ksize=ksize, scale=1, delta=0, borderType=cv2.BORDER_DEFAULT)\n",
    "\n",
    "    abs_grad_x = cv2.convertScaleAbs(grad_x)\n",
    "    abs_grad_y = cv2.convertScaleAbs(grad_y)\n",
    "\n",
    "    return abs_grad_x, abs_grad_y"
   ]
  },
  {
   "attachments": {},
   "cell_type": "markdown",
   "metadata": {},
   "source": [
    "**b)** calculate the approximate value of the gradient by combining the directional derivatives;"
   ]
  },
  {
   "cell_type": "code",
   "execution_count": 41,
   "metadata": {},
   "outputs": [],
   "source": [
    "def calculate_grad(img, threshold, ksize):\n",
    "    abs_grad_x, abs_grad_y = calculate_grad_x_y(img, ksize)\n",
    "    grad = cv2.addWeighted(abs_grad_x, 0.5, abs_grad_y, 0.5, 0)\n",
    "    _, grad = cv2.threshold(grad, threshold, 255, cv2.THRESH_BINARY)\n",
    "\n",
    "    return grad"
   ]
  },
  {
   "attachments": {},
   "cell_type": "markdown",
   "metadata": {},
   "source": [
    "**c)** show the \"gradient image\";"
   ]
  },
  {
   "cell_type": "code",
   "execution_count": 43,
   "metadata": {},
   "outputs": [],
   "source": [
    "img = cv2.imread(os.path.join(DATA_DIR, FILENAME))\n",
    "\n",
    "if img is None:\n",
    "    print(\"Image could not be loaded.\")\n",
    "    exit(1)\n",
    "\n",
    "grad = calculate_grad(img, 40, 3)\n",
    "\n",
    "cv2.imshow(WINDOW_NAME, grad)\n",
    "cv2.waitKey(0)\n",
    "cv2.destroyAllWindows()"
   ]
  },
  {
   "attachments": {},
   "cell_type": "markdown",
   "metadata": {},
   "source": [
    "**d)** show the result of thresholding the \"gradient image\"; use a trackbar to select the threshold value;"
   ]
  },
  {
   "cell_type": "code",
   "execution_count": 37,
   "metadata": {},
   "outputs": [],
   "source": [
    "threshold = 40\n",
    "ksize = 3\n",
    "\n",
    "def on_threshold_slider(value):\n",
    "    global threshold\n",
    "    threshold = value\n",
    "    grad = calculate_grad(img, value, ksize)\n",
    "    cv2.imshow(WINDOW_NAME, grad)\n",
    "\n",
    "cv2.namedWindow(WINDOW_NAME)\n",
    "cv2.createTrackbar(\"Threshold\", WINDOW_NAME, 0, 255, on_threshold_slider)\n",
    "\n",
    "cv2.imshow(WINDOW_NAME, grad)\n",
    "cv2.waitKey(0)\n",
    "cv2.destroyAllWindows()"
   ]
  },
  {
   "attachments": {},
   "cell_type": "markdown",
   "metadata": {},
   "source": [
    "**e)** try different kernel sizes (see: Sobel documentation page, in OpenC V site);"
   ]
  },
  {
   "cell_type": "code",
   "execution_count": 46,
   "metadata": {},
   "outputs": [],
   "source": [
    "threshold = 40\n",
    "ksize = 3\n",
    "\n",
    "def on_threshold_slider(value):\n",
    "    global threshold\n",
    "    threshold = value\n",
    "    grad = calculate_grad(img, value, ksize)\n",
    "    cv2.imshow(WINDOW_NAME, grad)\n",
    "\n",
    "def on_ksize_slider(value):\n",
    "    global ksize\n",
    "    ksize = value\n",
    "    grad = calculate_grad(img, threshold, value)\n",
    "    cv2.imshow(WINDOW_NAME, grad)\n",
    "\n",
    "cv2.namedWindow(WINDOW_NAME)\n",
    "cv2.createTrackbar(\"Threshold\", WINDOW_NAME, 40, 255, on_threshold_slider)\n",
    "cv2.createTrackbar(\"Ksize\", WINDOW_NAME, 3, 9, on_ksize_slider)\n",
    "\n",
    "cv2.imshow(WINDOW_NAME, grad)\n",
    "cv2.waitKey(0)\n",
    "cv2.destroyAllWindows()"
   ]
  }
 ],
 "metadata": {
  "kernelspec": {
   "display_name": "Python 3",
   "language": "python",
   "name": "python3"
  },
  "language_info": {
   "codemirror_mode": {
    "name": "ipython",
    "version": 3
   },
   "file_extension": ".py",
   "mimetype": "text/x-python",
   "name": "python",
   "nbconvert_exporter": "python",
   "pygments_lexer": "ipython3",
   "version": "3.10.6"
  },
  "orig_nbformat": 4,
  "vscode": {
   "interpreter": {
    "hash": "e7370f93d1d0cde622a1f8e1c04877d8463912d04d973331ad4851f04de6915a"
   }
  }
 },
 "nbformat": 4,
 "nbformat_minor": 2
}
