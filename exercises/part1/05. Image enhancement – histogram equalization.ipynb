{
 "cells": [
  {
   "attachments": {},
   "cell_type": "markdown",
   "metadata": {},
   "source": [
    "# 5. Image enhancement – histogram equalization"
   ]
  },
  {
   "cell_type": "code",
   "execution_count": 1,
   "metadata": {},
   "outputs": [],
   "source": [
    "import cv2\n",
    "import numpy as np\n",
    "import os\n",
    "\n",
    "DATA_DIR = './data'\n",
    "FILENAME = \"lowContrast_02.jpg\"\n",
    "\n",
    "HIST_SIZE = 256\n",
    "\n",
    "def get_img_histogram(img, hist_size):\n",
    "    b, g, r = cv2.split(img)\n",
    "\n",
    "    b_hist = cv2.calcHist(b, [0], None, [hist_size], (0, hist_size), False)\n",
    "    g_hist = cv2.calcHist(g, [1], None, [hist_size], (0, hist_size), False)\n",
    "    r_hist = cv2.calcHist(r, [2], None, [hist_size], (0, hist_size), False)\n",
    "\n",
    "    hist_width, hist_height = 512, 400\n",
    "    bin_width = int(round(hist_width / hist_size))\n",
    "\n",
    "    hist_img = np.zeros((hist_height, hist_width, 3), dtype=np.uint8)\n",
    "\n",
    "    cv2.normalize(b_hist, b_hist, alpha=0, beta=hist_height, norm_type=cv2.NORM_MINMAX)\n",
    "    cv2.normalize(g_hist, g_hist, alpha=0, beta=hist_height, norm_type=cv2.NORM_MINMAX)\n",
    "    cv2.normalize(r_hist, r_hist, alpha=0, beta=hist_height, norm_type=cv2.NORM_MINMAX)\n",
    "\n",
    "    for i in range(1, hist_size):\n",
    "        cv2.line(hist_img, ( bin_width*(i-1), hist_height - int(b_hist[i-1]) ),\n",
    "                ( bin_width*(i), hist_height - int(b_hist[i]) ),\n",
    "                ( 255, 0, 0), thickness=2)\n",
    "        cv2.line(hist_img, ( bin_width*(i-1), hist_height - int(g_hist[i-1]) ),\n",
    "                ( bin_width*(i), hist_height - int(g_hist[i]) ),\n",
    "                ( 0, 255, 0), thickness=2)\n",
    "        cv2.line(hist_img, ( bin_width*(i-1), hist_height - int(r_hist[i-1]) ),\n",
    "                ( bin_width*(i), hist_height - int(r_hist[i]) ),\n",
    "                ( 0, 0, 255), thickness=2)\n",
    "    \n",
    "    return hist_img"
   ]
  },
  {
   "attachments": {},
   "cell_type": "markdown",
   "metadata": {},
   "source": [
    "**a)** Take a low contrast grayscale image and plot its histogram."
   ]
  },
  {
   "cell_type": "code",
   "execution_count": 6,
   "metadata": {},
   "outputs": [],
   "source": [
    "img = cv2.imread(os.path.join(DATA_DIR, FILENAME))\n",
    "\n",
    "if img is None:\n",
    "    print(\"Image could not be loaded.\")\n",
    "    exit(1)\n",
    "\n",
    "hist_img = get_img_histogram(img, HIST_SIZE)\n",
    "\n",
    "cv2.imshow('Source image', img)\n",
    "cv2.imshow('calcHist', hist_img)\n",
    "\n",
    "cv2.waitKey(0)\n",
    "\n",
    "cv2.destroyAllWindows()"
   ]
  },
  {
   "attachments": {},
   "cell_type": "markdown",
   "metadata": {},
   "source": [
    "**b)** Enhance the image constrast using:\n",
    "    - **b1)** simple histogram equalization, or\n",
    "    - **b2)** CLAHE,\n",
    "and show the resulting enhanced images and their histograms."
   ]
  },
  {
   "cell_type": "code",
   "execution_count": 3,
   "metadata": {},
   "outputs": [],
   "source": [
    "def get_grayscale_img_histogram(img, hist_size):\n",
    "    hist = cv2.calcHist(img, [1], None, [hist_size], (0, hist_size), False)\n",
    "\n",
    "    hist_width, hist_height = 512, 400\n",
    "    bin_width = int(round(hist_width / hist_size))\n",
    "\n",
    "    hist_img = np.zeros((hist_height, hist_width, 3), dtype=np.uint8)\n",
    "\n",
    "    cv2.normalize(hist, hist, alpha=0, beta=hist_height, norm_type=cv2.NORM_MINMAX)\n",
    "\n",
    "    for i in range(1, hist_size):\n",
    "        cv2.line(hist_img, ( bin_width*(i-1), hist_height - int(hist[i-1]) ),\n",
    "                ( bin_width*(i), hist_height - int(hist[i]) ),\n",
    "                ( 100, 100, 100), thickness=2)\n",
    "    \n",
    "    return hist_img\n",
    "\n",
    "img = cv2.imread(os.path.join(DATA_DIR, FILENAME), cv2.IMREAD_GRAYSCALE)\n",
    "\n",
    "if img is None:\n",
    "    print(\"Image could not be loaded.\")\n",
    "    exit(1)\n",
    "\n",
    "simple_eq_img = cv2.equalizeHist(img)\n",
    "simple_eq_hist = get_grayscale_img_histogram(simple_eq_img, HIST_SIZE)\n",
    "\n",
    "cv2.imshow('Simple Equalization Image', simple_eq_img)\n",
    "cv2.imshow('Simple Equalization Histogram', simple_eq_hist)\n",
    "\n",
    "cv2.waitKey(0)\n",
    "\n",
    "cv2.destroyAllWindows()"
   ]
  }
 ],
 "metadata": {
  "kernelspec": {
   "display_name": "Python 3",
   "language": "python",
   "name": "python3"
  },
  "language_info": {
   "codemirror_mode": {
    "name": "ipython",
    "version": 3
   },
   "file_extension": ".py",
   "mimetype": "text/x-python",
   "name": "python",
   "nbconvert_exporter": "python",
   "pygments_lexer": "ipython3",
   "version": "3.10.6"
  },
  "orig_nbformat": 4,
  "vscode": {
   "interpreter": {
    "hash": "e7370f93d1d0cde622a1f8e1c04877d8463912d04d973331ad4851f04de6915a"
   }
  }
 },
 "nbformat": 4,
 "nbformat_minor": 2
}
